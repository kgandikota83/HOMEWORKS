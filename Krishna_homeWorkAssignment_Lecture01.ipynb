{
 "cells": [
  {
   "cell_type": "code",
   "execution_count": 2,
   "metadata": {},
   "outputs": [
    {
     "ename": "ValueError",
     "evalue": "could not convert string to float: '1.45 is a float'",
     "output_type": "error",
     "traceback": [
      "\u001b[1;31m---------------------------------------------------------------------------\u001b[0m",
      "\u001b[1;31mValueError\u001b[0m                                Traceback (most recent call last)",
      "\u001b[1;32m<ipython-input-2-75f34c980389>\u001b[0m in \u001b[0;36m<module>\u001b[1;34m\u001b[0m\n\u001b[0;32m      1\u001b[0m \u001b[0mfl\u001b[0m \u001b[1;33m=\u001b[0m \u001b[1;34m\"1.45 is a float\"\u001b[0m\u001b[1;33m\u001b[0m\u001b[1;33m\u001b[0m\u001b[0m\n\u001b[1;32m----> 2\u001b[1;33m \u001b[0mprint\u001b[0m\u001b[1;33m(\u001b[0m\u001b[0mfloat\u001b[0m\u001b[1;33m(\u001b[0m\u001b[0mfl\u001b[0m\u001b[1;33m)\u001b[0m\u001b[1;33m)\u001b[0m\u001b[1;33m\u001b[0m\u001b[1;33m\u001b[0m\u001b[0m\n\u001b[0m",
      "\u001b[1;31mValueError\u001b[0m: could not convert string to float: '1.45 is a float'"
     ]
    }
   ],
   "source": [
    "fl = \"1.45 is a float\"\n",
    "print(float(fl))"
   ]
  },
  {
   "cell_type": "code",
   "execution_count": 14,
   "metadata": {},
   "outputs": [
    {
     "name": "stdout",
     "output_type": "stream",
     "text": [
      "degree inputted is:  180\n",
      "value in radians:  3.14\n"
     ]
    }
   ],
   "source": [
    "\"\"\"\n",
    "objective: Program to convert a degree to radian\n",
    "math: radian = 57.3 degrees\n",
    "\n",
    "\"\"\"\n",
    "\n",
    "\n",
    "def degreetoRadian(degree):\n",
    "    try:\n",
    "        cf = 57.3\n",
    "        processdegree = float(degree)\n",
    "        radianval = processdegree / cf\n",
    "        return round(radianval, 2)\n",
    "    except ValueError:\n",
    "        print(\"invalid input\")\n",
    "\n",
    "        \n",
    "# caller program\n",
    "inputdegree = 180\n",
    "print(\"degree inputted is: \", inputdegree)\n",
    "print(\"value in radians: \", degreetoRadian(inputdegree))"
   ]
  },
  {
   "cell_type": "code",
   "execution_count": 16,
   "metadata": {},
   "outputs": [
    {
     "name": "stdout",
     "output_type": "stream",
     "text": [
      "radius inputted is:  18\n",
      "surface area of a cube is:  4069.44\n",
      "surface volumne of a cube is:  24416.64\n"
     ]
    }
   ],
   "source": [
    "\"\"\"\n",
    "objective: compute surface volume and area of a sphere\n",
    "math:   surface area of a sphere:   4 * pi * squared radius\n",
    "        surface volume of a cube:   (4/3) * pi * cubed radius\n",
    "\n",
    "\"\"\"\n",
    "\n",
    "def computeSurfaceAreaofCube (radius):\n",
    "    try:\n",
    "        validradius = float(radius)\n",
    "        pi = 3.14\n",
    "        \n",
    "        surfaceArea = 4 * pi * validradius * validradius\n",
    "        return surfaceArea \n",
    "    except ValueError: \n",
    "        print(\"invalid input\")\n",
    "\n",
    "def computeSurfaceVolumeofCube (radius):\n",
    "    try:\n",
    "        validradius = float(radius)\n",
    "        pi = 3.14\n",
    "        \n",
    "        surfaceVol = 4/3 * pi * validradius * validradius * validradius\n",
    "        return surfaceVol \n",
    "    except ValueError: \n",
    "        print(\"invalid input\")\n",
    "        \n",
    "# starter program\n",
    "\n",
    "# given\n",
    "inputradius = 18\n",
    "print(\"radius inputted is: \", inputradius)\n",
    "print(\"surface area of a cube is: \", computeSurfaceAreaofCube(inputradius))\n",
    "print(\"surface volumne of a cube is: \", computeSurfaceVolumeofCube(inputradius))"
   ]
  },
  {
   "cell_type": "code",
   "execution_count": 18,
   "metadata": {},
   "outputs": [
    {
     "name": "stdout",
     "output_type": "stream",
     "text": [
      "inputs entered  x:5  , y:1 \n",
      "result:  36.0\n"
     ]
    }
   ],
   "source": [
    "\"\"\"\n",
    "objective: solve an equation of the form: (x+y) * (x+y)\n",
    "algo: multiple ways to solve it, but the simplest is to square the sum of x and y\n",
    "\"\"\"\n",
    "def returnsquaredsum(x, y):\n",
    "    try:\n",
    "        validx = float(x)\n",
    "        validy = float(y)\n",
    "        sumxy = validx + validy\n",
    "        return sumxy * sumxy\n",
    "    except ValueError:\n",
    "        print(\"invalid inputs\")\n",
    "        \n",
    "# starter program\n",
    "inputx = 5\n",
    "inputy = 1\n",
    "print(\"inputs entered  x:%d  , y:%d \" %(inputx, inputy))\n",
    "print(\"result: \", returnsquaredsum(inputx, inputy))\n",
    "    \n",
    "    \n"
   ]
  },
  {
   "cell_type": "code",
   "execution_count": 37,
   "metadata": {},
   "outputs": [],
   "source": [
    "\"\"\"\n",
    "objective: check given number is  <100 or <1000 or <2000\n",
    "algo: since a number can be lesser than more than one bucket here, maintaing a list of buckets and then \n",
    "      displaying at the end makes sense. \n",
    "\"\"\"\n",
    "\n",
    "\n",
    "def returncomparitivebuckets(num):\n",
    "    finalbound = []\n",
    "    bound1 = 100\n",
    "    bound2 = 1000\n",
    "    bound3 = 2000\n",
    "    \n",
    "    try:\n",
    "        validnum = float(num)\n",
    "        if (validnum < bound1):\n",
    "            finalbound.append(bound1)\n",
    "        if (validnum < bound2):\n",
    "            finalbound.append(bound2)\n",
    "        if (validnum < bound3):\n",
    "            finalbound.append(bound3)\n",
    "        return finalbound\n",
    "    except ValueError:\n",
    "        print(\"not a valid input\")\n",
    "\n",
    "# caller program\n",
    "\n",
    "def mainFunction():\n",
    "    inputnum = 40\n",
    "    returncomparitivebuckets(inputnum)\n",
    " \n",
    " \n",
    "mainFunction()"
   ]
  },
  {
   "cell_type": "code",
   "execution_count": 44,
   "metadata": {},
   "outputs": [
    {
     "name": "stdout",
     "output_type": "stream",
     "text": [
      "input value: 110 is less than \n",
      "1000\n",
      "2000\n"
     ]
    }
   ],
   "source": [
    "\"\"\"\n",
    "objective: check given number is  <100 or <1000 or <2000\n",
    "\"\"\"\n",
    "\n",
    "finalbound = []\n",
    "    \n",
    "def returncomparitivebuckets(num):\n",
    "    bound1 = 100\n",
    "    bound2 = 1000\n",
    "    bound3 = 2000\n",
    "    \n",
    "    try:\n",
    "        validnum = float(num)\n",
    "        if (validnum < bound1):\n",
    "            finalbound.append(bound1)\n",
    "        if (validnum < bound2):\n",
    "            finalbound.append(bound2)\n",
    "        if (validnum < bound3):\n",
    "            finalbound.append(bound3)\n",
    "        printresults(num)\n",
    "    except ValueError:\n",
    "        print(\"not a valid input\")\n",
    "\n",
    "def printresults(num):\n",
    "    if len(finalbound)>0:\n",
    "        print(\"input value: %d is less than \" %(num))\n",
    "        for val in finalbound:\n",
    "            print(val)\n",
    "        \n",
    "# caller program\n",
    "inputnum = 110\n",
    "returncomparitivebuckets(inputnum)\n",
    "\n",
    "\n",
    "\n"
   ]
  },
  {
   "cell_type": "code",
   "execution_count": 54,
   "metadata": {},
   "outputs": [
    {
     "name": "stdout",
     "output_type": "stream",
     "text": [
      "the two letter combinations you get are: \n",
      "au ao ai ae eu eo ei ea iu io ie ia ou oi oe oa uo ui ue ua "
     ]
    }
   ],
   "source": [
    "\"\"\"\n",
    "objective: generate two letter combinations of the list of letters given\n",
    "algo:  Traverse the list one element at a time from both ends. \n",
    "        - while element from first list is != element from the second list, concatenate them to a temp variable\n",
    "        - append the temp variable to a new list, print the final list\n",
    "\n",
    "\"\"\"\n",
    "\n",
    "\n",
    "newlist = []\n",
    "\n",
    "def generate2vowelcombinations(vowels):\n",
    "    for val in vowels:\n",
    "        for rest in reversed(vowels):\n",
    "            if (val != rest):\n",
    "                temp = val+rest\n",
    "                newlist.append(temp)\n",
    "\n",
    "vowels = ['a', 'e', 'i', 'o', 'u']\n",
    "generate2vowelcombinations(vowels)\n",
    "\n",
    "print(\"the two letter combinations you get are: \")\n",
    "for val in newlist:\n",
    "    print(val, end=\" \")\n"
   ]
  },
  {
   "cell_type": "code",
   "execution_count": null,
   "metadata": {},
   "outputs": [],
   "source": []
  }
 ],
 "metadata": {
  "kernelspec": {
   "display_name": "Python 3",
   "language": "python",
   "name": "python3"
  },
  "language_info": {
   "codemirror_mode": {
    "name": "ipython",
    "version": 3
   },
   "file_extension": ".py",
   "mimetype": "text/x-python",
   "name": "python",
   "nbconvert_exporter": "python",
   "pygments_lexer": "ipython3",
   "version": "3.7.1"
  }
 },
 "nbformat": 4,
 "nbformat_minor": 2
}
